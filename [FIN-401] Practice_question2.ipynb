{
 "cells": [
  {
   "cell_type": "markdown",
   "metadata": {},
   "source": [
    "# FIN 401 - Practice Question"
   ]
  },
  {
   "cell_type": "markdown",
   "metadata": {},
   "source": [
    "                                                                               Oussama Abouzaid"
   ]
  },
  {
   "cell_type": "code",
   "execution_count": 1,
   "metadata": {
    "collapsed": true
   },
   "outputs": [],
   "source": [
    "import numpy as np\n",
    "import pandas as pd \n",
    "import matplotlib.pyplot as plt\n",
    "import warnings\n",
    "from IPython.display import display \n",
    "warnings.filterwarnings('ignore')"
   ]
  },
  {
   "cell_type": "code",
   "execution_count": 2,
   "metadata": {
    "collapsed": true
   },
   "outputs": [],
   "source": [
    "PATH = '/Users/abouzaid/Desktop/MA1/Finance/Practice question FIN 401/practice.csv'"
   ]
  },
  {
   "cell_type": "code",
   "execution_count": 3,
   "metadata": {},
   "outputs": [],
   "source": [
    "df = pd.read_csv(PATH).fillna(0)"
   ]
  },
  {
   "cell_type": "code",
   "execution_count": 4,
   "metadata": {
    "collapsed": true
   },
   "outputs": [],
   "source": [
    "stats = df[['datadate', 'fyear', 'at', 'csho', 'dlc', 'dltt', 'dv', 'ebit', 'lt', 'ni', 'prstkc', 'mkvalt', 'prcc_f', 'sic']]\n",
    "stats.datadate = stats.datadate.apply(lambda x: int(str(x)[0:4]))"
   ]
  },
  {
   "cell_type": "markdown",
   "metadata": {},
   "source": [
    "## 1.Calculate the dividend payout ratio as cash dividends over net income"
   ]
  },
  {
   "cell_type": "markdown",
   "metadata": {},
   "source": [
    "The column **div_payout_ratio** contains the divident payout ratio, as cash dividends over net income"
   ]
  },
  {
   "cell_type": "code",
   "execution_count": 5,
   "metadata": {},
   "outputs": [],
   "source": [
    "stats['div_payout_ratio'] = stats['dv'].divide(stats['ni'], fill_value=0)"
   ]
  },
  {
   "cell_type": "markdown",
   "metadata": {},
   "source": [
    "## 2. Calculate the repurchase payout ratio as repurchases over net income"
   ]
  },
  {
   "cell_type": "markdown",
   "metadata": {},
   "source": [
    "The column **rep_payout_ratio** contains the repurchase payout ratio, as repurchases over net income"
   ]
  },
  {
   "cell_type": "code",
   "execution_count": 6,
   "metadata": {
    "collapsed": true
   },
   "outputs": [],
   "source": [
    "stats['rep_payout_ratio'] = stats['prstkc'].divide(stats['ni'], fill_value=0)"
   ]
  },
  {
   "cell_type": "markdown",
   "metadata": {},
   "source": [
    "## 3. Calculate the total payout ratio as the sum of the two ratios"
   ]
  },
  {
   "cell_type": "markdown",
   "metadata": {},
   "source": []
  },
  {
   "cell_type": "code",
   "execution_count": 7,
   "metadata": {
    "collapsed": true
   },
   "outputs": [],
   "source": [
    "stats['total_payout_ratio'] = stats['rep_payout_ratio'] + stats['div_payout_ratio']\n",
    "stats = stats.fillna(0).replace(np.inf, 0)"
   ]
  },
  {
   "cell_type": "markdown",
   "metadata": {},
   "source": [
    "## 4. Summary statistics for the payout ratios "
   ]
  },
  {
   "cell_type": "code",
   "execution_count": 8,
   "metadata": {},
   "outputs": [
    {
     "data": {
      "text/html": [
       "<div>\n",
       "<style>\n",
       "    .dataframe thead tr:only-child th {\n",
       "        text-align: right;\n",
       "    }\n",
       "\n",
       "    .dataframe thead th {\n",
       "        text-align: left;\n",
       "    }\n",
       "\n",
       "    .dataframe tbody tr th {\n",
       "        vertical-align: top;\n",
       "    }\n",
       "</style>\n",
       "<table border=\"1\" class=\"dataframe\">\n",
       "  <thead>\n",
       "    <tr style=\"text-align: right;\">\n",
       "      <th></th>\n",
       "      <th>mean</th>\n",
       "      <th>25%</th>\n",
       "      <th>50%</th>\n",
       "      <th>75%</th>\n",
       "      <th>std</th>\n",
       "      <th>min</th>\n",
       "      <th>max</th>\n",
       "    </tr>\n",
       "  </thead>\n",
       "  <tbody>\n",
       "    <tr>\n",
       "      <th>div_payout_ratio</th>\n",
       "      <td>0.196281</td>\n",
       "      <td>0.0</td>\n",
       "      <td>0.0</td>\n",
       "      <td>0.000000</td>\n",
       "      <td>6.750525</td>\n",
       "      <td>-515.23913</td>\n",
       "      <td>632.428571</td>\n",
       "    </tr>\n",
       "    <tr>\n",
       "      <th>rep_payout_ratio</th>\n",
       "      <td>-0.097798</td>\n",
       "      <td>0.0</td>\n",
       "      <td>0.0</td>\n",
       "      <td>0.000000</td>\n",
       "      <td>64.363802</td>\n",
       "      <td>-15842.55000</td>\n",
       "      <td>1212.082192</td>\n",
       "    </tr>\n",
       "    <tr>\n",
       "      <th>total_payout_ratio</th>\n",
       "      <td>0.098482</td>\n",
       "      <td>0.0</td>\n",
       "      <td>0.0</td>\n",
       "      <td>0.122123</td>\n",
       "      <td>65.000769</td>\n",
       "      <td>-15842.55000</td>\n",
       "      <td>1696.493151</td>\n",
       "    </tr>\n",
       "  </tbody>\n",
       "</table>\n",
       "</div>"
      ],
      "text/plain": [
       "                        mean  25%  50%       75%        std          min  \\\n",
       "div_payout_ratio    0.196281  0.0  0.0  0.000000   6.750525   -515.23913   \n",
       "rep_payout_ratio   -0.097798  0.0  0.0  0.000000  64.363802 -15842.55000   \n",
       "total_payout_ratio  0.098482  0.0  0.0  0.122123  65.000769 -15842.55000   \n",
       "\n",
       "                            max  \n",
       "div_payout_ratio     632.428571  \n",
       "rep_payout_ratio    1212.082192  \n",
       "total_payout_ratio  1696.493151  "
      ]
     },
     "execution_count": 8,
     "metadata": {},
     "output_type": "execute_result"
    }
   ],
   "source": [
    "q4 = stats[['div_payout_ratio', 'rep_payout_ratio', 'total_payout_ratio']].fillna(0).replace(np.inf, 0).describe()\n",
    "q4.loc[['mean', '25%', '50%', '75%', 'std', 'min', 'max']].transpose()"
   ]
  },
  {
   "cell_type": "markdown",
   "metadata": {},
   "source": [
    "**N.B:** In the above statistics, '50%' refers to the 50% quantile, which is the median "
   ]
  },
  {
   "cell_type": "markdown",
   "metadata": {},
   "source": [
    "**To represent the distribution of both ratios, we decided to take a sample of 300 datapoints for each ratio, to avoid having biased distributions due a very large number of zero ratios.**"
   ]
  },
  {
   "cell_type": "code",
   "execution_count": 9,
   "metadata": {},
   "outputs": [
    {
     "data": {
      "image/png": "[encoded data removed]",
      "text/plain": [
       "<matplotlib.figure.Figure at 0x11bb1e588>"
      ]
     },
     "metadata": {},
     "output_type": "display_data"
    }
   ],
   "source": [
    "stats[['div_payout_ratio']][:300].hist(bins=100)\n",
    "plt.title('Distribution of the divident payout ratio')\n",
    "plt.xlabel('Ratio')\n",
    "plt.ylabel('Frequency')\n",
    "plt.show()"
   ]
  },
  {
   "cell_type": "code",
   "execution_count": 10,
   "metadata": {},
   "outputs": [
    {
     "data": {
      "image/png": "[encoded data removed]",
      "text/plain": [
       "<matplotlib.figure.Figure at 0x11b29cf60>"
      ]
     },
     "metadata": {},
     "output_type": "display_data"
    }
   ],
   "source": [
    "stats[['rep_payout_ratio']][:300].hist(bins=100)\n",
    "plt.title('Distribution of the repurchase payout ratio')\n",
    "plt.xlabel('Ratio')\n",
    "plt.ylabel('Frequency')\n",
    "plt.show()"
   ]
  },
  {
   "cell_type": "markdown",
   "metadata": {},
   "source": [
    "## Question 5"
   ]
  },
  {
   "cell_type": "code",
   "execution_count": 11,
   "metadata": {},
   "outputs": [],
   "source": [
    "negative_incomes = stats[(stats['ni'] < 0)]\n",
    "positive_incomes = stats[(stats['ni'] > 0)]\n",
    "q5 = positive_incomes[['div_payout_ratio', 'rep_payout_ratio', 'total_payout_ratio']]\\\n",
    "    .fillna(0).replace(np.inf, 0).describe().loc[['mean', '25%', '50%', '75%', 'std', 'min', 'max']].transpose()"
   ]
  },
  {
   "cell_type": "markdown",
   "metadata": {},
   "source": [
    "**Here are the firms who have negative values of net income, in each year of the sample period:**"
   ]
  },
  {
   "cell_type": "code",
   "execution_count": 12,
   "metadata": {},
   "outputs": [
    {
     "data": {
      "text/html": [
       "<div>\n",
       "<style>\n",
       "    .dataframe thead tr:only-child th {\n",
       "        text-align: right;\n",
       "    }\n",
       "\n",
       "    .dataframe thead th {\n",
       "        text-align: left;\n",
       "    }\n",
       "\n",
       "    .dataframe tbody tr th {\n",
       "        vertical-align: top;\n",
       "    }\n",
       "</style>\n",
       "<table border=\"1\" class=\"dataframe\">\n",
       "  <thead>\n",
       "    <tr style=\"text-align: right;\">\n",
       "      <th></th>\n",
       "      <th>ni</th>\n",
       "    </tr>\n",
       "    <tr>\n",
       "      <th>datadate</th>\n",
       "      <th></th>\n",
       "    </tr>\n",
       "  </thead>\n",
       "  <tbody>\n",
       "    <tr>\n",
       "      <th>2006</th>\n",
       "      <td>3416</td>\n",
       "    </tr>\n",
       "    <tr>\n",
       "      <th>2007</th>\n",
       "      <td>3549</td>\n",
       "    </tr>\n",
       "    <tr>\n",
       "      <th>2008</th>\n",
       "      <td>4216</td>\n",
       "    </tr>\n",
       "    <tr>\n",
       "      <th>2009</th>\n",
       "      <td>4226</td>\n",
       "    </tr>\n",
       "    <tr>\n",
       "      <th>2010</th>\n",
       "      <td>3525</td>\n",
       "    </tr>\n",
       "  </tbody>\n",
       "</table>\n",
       "</div>"
      ],
      "text/plain": [
       "            ni\n",
       "datadate      \n",
       "2006      3416\n",
       "2007      3549\n",
       "2008      4216\n",
       "2009      4226\n",
       "2010      3525"
      ]
     },
     "execution_count": 12,
     "metadata": {},
     "output_type": "execute_result"
    }
   ],
   "source": [
    "negative_incomes.groupby('datadate').count()[['ni']]"
   ]
  },
  {
   "cell_type": "markdown",
   "metadata": {},
   "source": [
    "**And here is a summary statistics for the payout ratios only for the firms withpositive values of net income.**"
   ]
  },
  {
   "cell_type": "code",
   "execution_count": 13,
   "metadata": {},
   "outputs": [
    {
     "data": {
      "text/html": [
       "<div>\n",
       "<style>\n",
       "    .dataframe thead tr:only-child th {\n",
       "        text-align: right;\n",
       "    }\n",
       "\n",
       "    .dataframe thead th {\n",
       "        text-align: left;\n",
       "    }\n",
       "\n",
       "    .dataframe tbody tr th {\n",
       "        vertical-align: top;\n",
       "    }\n",
       "</style>\n",
       "<table border=\"1\" class=\"dataframe\">\n",
       "  <thead>\n",
       "    <tr style=\"text-align: right;\">\n",
       "      <th></th>\n",
       "      <th>mean</th>\n",
       "      <th>25%</th>\n",
       "      <th>50%</th>\n",
       "      <th>75%</th>\n",
       "      <th>std</th>\n",
       "      <th>min</th>\n",
       "      <th>max</th>\n",
       "    </tr>\n",
       "  </thead>\n",
       "  <tbody>\n",
       "    <tr>\n",
       "      <th>div_payout_ratio</th>\n",
       "      <td>0.747654</td>\n",
       "      <td>0.0</td>\n",
       "      <td>0.068065</td>\n",
       "      <td>0.470972</td>\n",
       "      <td>9.192161</td>\n",
       "      <td>0.000000</td>\n",
       "      <td>632.428571</td>\n",
       "    </tr>\n",
       "    <tr>\n",
       "      <th>rep_payout_ratio</th>\n",
       "      <td>0.611071</td>\n",
       "      <td>0.0</td>\n",
       "      <td>0.000000</td>\n",
       "      <td>0.189638</td>\n",
       "      <td>10.445167</td>\n",
       "      <td>-0.033387</td>\n",
       "      <td>1212.082192</td>\n",
       "    </tr>\n",
       "    <tr>\n",
       "      <th>total_payout_ratio</th>\n",
       "      <td>1.358725</td>\n",
       "      <td>0.0</td>\n",
       "      <td>0.304090</td>\n",
       "      <td>0.888933</td>\n",
       "      <td>15.943752</td>\n",
       "      <td>-0.006663</td>\n",
       "      <td>1696.493151</td>\n",
       "    </tr>\n",
       "  </tbody>\n",
       "</table>\n",
       "</div>"
      ],
      "text/plain": [
       "                        mean  25%       50%       75%        std       min  \\\n",
       "div_payout_ratio    0.747654  0.0  0.068065  0.470972   9.192161  0.000000   \n",
       "rep_payout_ratio    0.611071  0.0  0.000000  0.189638  10.445167 -0.033387   \n",
       "total_payout_ratio  1.358725  0.0  0.304090  0.888933  15.943752 -0.006663   \n",
       "\n",
       "                            max  \n",
       "div_payout_ratio     632.428571  \n",
       "rep_payout_ratio    1212.082192  \n",
       "total_payout_ratio  1696.493151  "
      ]
     },
     "execution_count": 13,
     "metadata": {},
     "output_type": "execute_result"
    }
   ],
   "source": [
    "q5"
   ]
  },
  {
   "cell_type": "markdown",
   "metadata": {},
   "source": [
    "## 6.  The percentages of firms with a given payout policy, grouped firms by calendar year"
   ]
  },
  {
   "cell_type": "code",
   "execution_count": 14,
   "metadata": {},
   "outputs": [
    {
     "data": {
      "text/html": [
       "<div>\n",
       "<style>\n",
       "    .dataframe thead tr:only-child th {\n",
       "        text-align: right;\n",
       "    }\n",
       "\n",
       "    .dataframe thead th {\n",
       "        text-align: left;\n",
       "    }\n",
       "\n",
       "    .dataframe tbody tr th {\n",
       "        vertical-align: top;\n",
       "    }\n",
       "</style>\n",
       "<table border=\"1\" class=\"dataframe\">\n",
       "  <thead>\n",
       "    <tr style=\"text-align: right;\">\n",
       "      <th></th>\n",
       "      <th>count</th>\n",
       "    </tr>\n",
       "    <tr>\n",
       "      <th>datadate</th>\n",
       "      <th></th>\n",
       "    </tr>\n",
       "  </thead>\n",
       "  <tbody>\n",
       "    <tr>\n",
       "      <th>2006</th>\n",
       "      <td>13.488183</td>\n",
       "    </tr>\n",
       "    <tr>\n",
       "      <th>2007</th>\n",
       "      <td>10.888298</td>\n",
       "    </tr>\n",
       "    <tr>\n",
       "      <th>2008</th>\n",
       "      <td>9.137762</td>\n",
       "    </tr>\n",
       "    <tr>\n",
       "      <th>2009</th>\n",
       "      <td>10.780118</td>\n",
       "    </tr>\n",
       "    <tr>\n",
       "      <th>2010</th>\n",
       "      <td>12.359460</td>\n",
       "    </tr>\n",
       "  </tbody>\n",
       "</table>\n",
       "</div>"
      ],
      "text/plain": [
       "              count\n",
       "datadate           \n",
       "2006      13.488183\n",
       "2007      10.888298\n",
       "2008       9.137762\n",
       "2009      10.780118\n",
       "2010      12.359460"
      ]
     },
     "execution_count": 14,
     "metadata": {},
     "output_type": "execute_result"
    }
   ],
   "source": [
    "#Calculating the ratios for the dividend payout ratios\n",
    "ratio_div_payout = stats[(stats['div_payout_ratio'] > 0) & (stats['rep_payout_ratio'] == 0)]\n",
    "ratio_div_payout = ratio_div_payout.groupby('datadate')['at'].describe()[['count']]\n",
    "ratio_div_payout = ratio_div_payout.divide(stats.groupby('datadate')['at'].describe()[['count']])*100\n",
    "ratio_div_payout"
   ]
  },
  {
   "cell_type": "code",
   "execution_count": 15,
   "metadata": {},
   "outputs": [
    {
     "data": {
      "text/html": [
       "<div>\n",
       "<style>\n",
       "    .dataframe thead tr:only-child th {\n",
       "        text-align: right;\n",
       "    }\n",
       "\n",
       "    .dataframe thead th {\n",
       "        text-align: left;\n",
       "    }\n",
       "\n",
       "    .dataframe tbody tr th {\n",
       "        vertical-align: top;\n",
       "    }\n",
       "</style>\n",
       "<table border=\"1\" class=\"dataframe\">\n",
       "  <thead>\n",
       "    <tr style=\"text-align: right;\">\n",
       "      <th></th>\n",
       "      <th>count</th>\n",
       "    </tr>\n",
       "    <tr>\n",
       "      <th>datadate</th>\n",
       "      <th></th>\n",
       "    </tr>\n",
       "  </thead>\n",
       "  <tbody>\n",
       "    <tr>\n",
       "      <th>2006</th>\n",
       "      <td>6.291769</td>\n",
       "    </tr>\n",
       "    <tr>\n",
       "      <th>2007</th>\n",
       "      <td>6.764919</td>\n",
       "    </tr>\n",
       "    <tr>\n",
       "      <th>2008</th>\n",
       "      <td>6.757199</td>\n",
       "    </tr>\n",
       "    <tr>\n",
       "      <th>2009</th>\n",
       "      <td>5.826201</td>\n",
       "    </tr>\n",
       "    <tr>\n",
       "      <th>2010</th>\n",
       "      <td>6.131198</td>\n",
       "    </tr>\n",
       "  </tbody>\n",
       "</table>\n",
       "</div>"
      ],
      "text/plain": [
       "             count\n",
       "datadate          \n",
       "2006      6.291769\n",
       "2007      6.764919\n",
       "2008      6.757199\n",
       "2009      5.826201\n",
       "2010      6.131198"
      ]
     },
     "execution_count": 15,
     "metadata": {},
     "output_type": "execute_result"
    }
   ],
   "source": [
    "#Calculating the ratios for the repurchase payout ratios\n",
    "ratio_rep_payout = stats[(stats['div_payout_ratio'] == 0) & (stats['rep_payout_ratio'] > 0)]\n",
    "ratio_rep_payout = ratio_rep_payout.groupby('datadate')['at'].describe()[['count']]\n",
    "ratio_rep_payout = ratio_rep_payout.divide(stats.groupby('datadate')['at'].describe()[['count']]) * 100\n",
    "ratio_rep_payout"
   ]
  },
  {
   "cell_type": "code",
   "execution_count": 16,
   "metadata": {
    "collapsed": true
   },
   "outputs": [],
   "source": [
    "def plot_ratios(div, rep, title=''):\n",
    "    ratios = pd.DataFrame()\n",
    "    ratios['Divident payout ratio'] = div\n",
    "    ratios['Repurchase payout ratio'] = rep\n",
    "    ratios.plot(grid=True)\n",
    "    plt.xlabel('Years')\n",
    "    plt.ylabel('Ratios (%)')\n",
    "    plt.title('Evolution of dividend and repurchase payout ratios {}'.format(title))\n",
    "    plt.show()"
   ]
  },
  {
   "cell_type": "code",
   "execution_count": 17,
   "metadata": {},
   "outputs": [
    {
     "data": {
      "image/png": "[encoded data removed]",
      "text/plain": [
       "<matplotlib.figure.Figure at 0x11b55fba8>"
      ]
     },
     "metadata": {},
     "output_type": "display_data"
    }
   ],
   "source": [
    "plot_ratios(ratio_div_payout['count'], ratio_rep_payout['count'])"
   ]
  },
  {
   "cell_type": "markdown",
   "metadata": {},
   "source": [
    "## Question 7"
   ]
  },
  {
   "cell_type": "markdown",
   "metadata": {},
   "source": [
    "**Ratio of policies used (divident vs. repurchase payout) within companies in a given sector, by year**"
   ]
  },
  {
   "cell_type": "code",
   "execution_count": 18,
   "metadata": {},
   "outputs": [
    {
     "data": {
      "image/png": "[encoded data removed]",
      "text/plain": [
       "<matplotlib.figure.Figure at 0x11c5e9a90>"
      ]
     },
     "metadata": {},
     "output_type": "display_data"
    }
   ],
   "source": [
    "#Financial sector\n",
    "finance = stats[(stats['sic'] >= 6000) & (stats['sic'] <= 6700)]\n",
    "div_fin = finance[(finance['div_payout_ratio'] > 0) & (finance['rep_payout_ratio'] == 0)].groupby('datadate').count()[['at']]\n",
    "rep_fin = finance[(finance['div_payout_ratio'] == 0) & (finance['rep_payout_ratio'] > 0)].groupby('datadate').count()[['at']]\n",
    "a = div_fin.divide(finance.groupby('datadate').count()[['at']])['at'] * 100\n",
    "b = rep_fin.divide(finance.groupby('datadate').count()[['at']])['at'] * 100\n",
    "plot_ratios(a, b, ' in financial sector')"
   ]
  },
  {
   "cell_type": "code",
   "execution_count": 20,
   "metadata": {},
   "outputs": [
    {
     "data": {
      "image/png": "[encoded data removed]",
      "text/plain": [
       "<matplotlib.figure.Figure at 0x11bcb68d0>"
      ]
     },
     "metadata": {},
     "output_type": "display_data"
    }
   ],
   "source": [
    "#High tech sector\n",
    "SIC_CODES = [3571, 3572, 3575, 3577, 3578, 3661, 3663, 3669,\\\n",
    "             3671, 3672, 3674, 3675, 3677, 3678, 3679, 3823,\\\n",
    "             3825, 3826, 3827, 3829, 3841, 3845, 4812, 4813,\\\n",
    "             4899, 7371, 7372, 7373, 7374, 7375, 7378, 7379]\n",
    "\n",
    "high_tech = stats[stats['sic'].isin(SIC_CODES)]\n",
    "div_ht = high_tech[(high_tech['div_payout_ratio'] > 0) & (high_tech['rep_payout_ratio'] == 0)]\\\n",
    "                        .groupby('datadate').count()[['at']]\n",
    "rep_ht = high_tech[(high_tech['div_payout_ratio'] == 0) & (high_tech['rep_payout_ratio'] > 0)]\\\n",
    "                        .groupby('datadate').count()[['at']]\n",
    "a = div_ht.divide(high_tech.groupby('datadate').count()[['at']])['at'] * 100\n",
    "b = rep_ht.divide(high_tech.groupby('datadate').count()[['at']])['at'] * 100\n",
    "plot_ratios(a, b, ' in financial sector')"
   ]
  }
 ],
 "metadata": {
  "kernelspec": {
   "display_name": "Python [conda root]",
   "language": "python",
   "name": "conda-root-py"
  },
  "language_info": {
   "codemirror_mode": {
    "name": "ipython",
    "version": 3
   },
   "file_extension": ".py",
   "mimetype": "text/x-python",
   "name": "python",
   "nbconvert_exporter": "python",
   "pygments_lexer": "ipython3",
   "version": "3.6.1"
  }
 },
 "nbformat": 4,
 "nbformat_minor": 2
}
